{
  "nbformat": 4,
  "nbformat_minor": 0,
  "metadata": {
    "colab": {
      "name": "Cópia de Lógica de programação.ipynb",
      "provenance": [],
      "collapsed_sections": [
        "W-qPzVbOrQ9e",
        "tfWZSZS0CJvR",
        "xjb061CIHG3J",
        "KKPPCXC2rEOc",
        "OAz5mCLGwfvG"
      ],
      "authorship_tag": "ABX9TyPV3wmtJWBy/YmA+lz2BXMF",
      "include_colab_link": true
    },
    "kernelspec": {
      "name": "python3",
      "display_name": "Python 3"
    },
    "language_info": {
      "name": "python"
    }
  },
  "cells": [
    {
      "cell_type": "markdown",
      "metadata": {
        "id": "view-in-github",
        "colab_type": "text"
      },
      "source": [
        "<a href=\"https://colab.research.google.com/github/alex-soaresdf/alex-soaresdf/blob/main/C%C3%B3pia_de_L%C3%B3gica_de_programa%C3%A7%C3%A3o.ipynb\" target=\"_parent\"><img src=\"https://colab.research.google.com/assets/colab-badge.svg\" alt=\"Open In Colab\"/></a>"
      ]
    },
    {
      "cell_type": "markdown",
      "source": [
        "# Inicio"
      ],
      "metadata": {
        "id": "W-qPzVbOrQ9e"
      }
    },
    {
      "cell_type": "code",
      "execution_count": null,
      "metadata": {
        "colab": {
          "base_uri": "https://localhost:8080/",
          "height": 165
        },
        "id": "94BbWyw-aKsR",
        "outputId": "f8c54e95-6d94-4120-a026-7a42e0e49172"
      },
      "outputs": [
        {
          "output_type": "error",
          "ename": "NameError",
          "evalue": "ignored",
          "traceback": [
            "\u001b[0;31m---------------------------------------------------------------------------\u001b[0m",
            "\u001b[0;31mNameError\u001b[0m                                 Traceback (most recent call last)",
            "\u001b[0;32m<ipython-input-1-910ab389aee6>\u001b[0m in \u001b[0;36m<module>\u001b[0;34m()\u001b[0m\n\u001b[0;32m----> 1\u001b[0;31m \u001b[0mnome\u001b[0m \u001b[0;34m=\u001b[0m \u001b[0mAlex\u001b[0m\u001b[0;34m\u001b[0m\u001b[0;34m\u001b[0m\u001b[0m\n\u001b[0m",
            "\u001b[0;31mNameError\u001b[0m: name 'Alex' is not defined"
          ]
        }
      ],
      "source": [
        "nome = Alex"
      ]
    },
    {
      "cell_type": "code",
      "source": [
        ""
      ],
      "metadata": {
        "colab": {
          "base_uri": "https://localhost:8080/",
          "height": 35
        },
        "id": "knkki53IccFZ",
        "outputId": "67b9ebaf-6a2b-40fb-f24b-be5b6827516b"
      },
      "execution_count": null,
      "outputs": [
        {
          "output_type": "execute_result",
          "data": {
            "text/plain": [
              "'Alex'"
            ],
            "application/vnd.google.colaboratory.intrinsic+json": {
              "type": "string"
            }
          },
          "metadata": {},
          "execution_count": 3
        }
      ]
    },
    {
      "cell_type": "markdown",
      "source": [
        ""
      ],
      "metadata": {
        "id": "a7VrUO35eiCB"
      }
    },
    {
      "cell_type": "code",
      "source": [
        "def "
      ],
      "metadata": {
        "id": "BOujDHZIBuAN",
        "colab": {
          "base_uri": "https://localhost:8080/",
          "height": 130
        },
        "outputId": "2dc92f59-e627-4c74-c6f7-57c492dfdbff"
      },
      "execution_count": 1,
      "outputs": [
        {
          "output_type": "error",
          "ename": "SyntaxError",
          "evalue": "ignored",
          "traceback": [
            "\u001b[0;36m  File \u001b[0;32m\"<ipython-input-1-455680ca2399>\"\u001b[0;36m, line \u001b[0;32m1\u001b[0m\n\u001b[0;31m    def\u001b[0m\n\u001b[0m        ^\u001b[0m\n\u001b[0;31mSyntaxError\u001b[0m\u001b[0;31m:\u001b[0m invalid syntax\n"
          ]
        }
      ]
    },
    {
      "cell_type": "markdown",
      "source": [
        "# Criando minha primeira função"
      ],
      "metadata": {
        "id": "tfWZSZS0CJvR"
      }
    },
    {
      "cell_type": "code",
      "source": [
        "def saudacao():\n",
        "  name = input ('Qual é seu nome ') \n",
        "  print(f'olá {name} ') \n"
      ],
      "metadata": {
        "id": "dXytzFnmCY1x"
      },
      "execution_count": null,
      "outputs": []
    },
    {
      "cell_type": "code",
      "source": [
        "Qual é seu nome"
      ],
      "metadata": {
        "colab": {
          "base_uri": "https://localhost:8080/",
          "height": 130
        },
        "id": "zHr05VmtD2Ep",
        "outputId": "12e7dff8-8fb9-4a47-9d74-1b916672f448"
      },
      "execution_count": null,
      "outputs": [
        {
          "output_type": "error",
          "ename": "SyntaxError",
          "evalue": "ignored",
          "traceback": [
            "\u001b[0;36m  File \u001b[0;32m\"<ipython-input-5-ffd7317699af>\"\u001b[0;36m, line \u001b[0;32m1\u001b[0m\n\u001b[0;31m    Qual é seu nome\u001b[0m\n\u001b[0m         ^\u001b[0m\n\u001b[0;31mSyntaxError\u001b[0m\u001b[0;31m:\u001b[0m invalid syntax\n"
          ]
        }
      ]
    },
    {
      "cell_type": "code",
      "source": [
        "saudacao()"
      ],
      "metadata": {
        "colab": {
          "base_uri": "https://localhost:8080/"
        },
        "id": "PW7lLDrpEDWc",
        "outputId": "8eaf9f99-5f7d-4902-ee82-447f75a896ba"
      },
      "execution_count": null,
      "outputs": [
        {
          "output_type": "stream",
          "name": "stdout",
          "text": [
            "Qual é seu nome alex\n",
            "olá alex \n"
          ]
        }
      ]
    },
    {
      "cell_type": "code",
      "source": [
        ""
      ],
      "metadata": {
        "id": "kwoRTZ9jESGP"
      },
      "execution_count": null,
      "outputs": []
    },
    {
      "cell_type": "markdown",
      "source": [
        "# Parâmetro"
      ],
      "metadata": {
        "id": "xjb061CIHG3J"
      }
    },
    {
      "cell_type": "code",
      "source": [
        "def saudacao_com_parametro(nome_da_pessoa):\n",
        " print(f'Ola {nome_da_pessoa}') "
      ],
      "metadata": {
        "id": "Y2WzxdksHCmc"
      },
      "execution_count": null,
      "outputs": []
    },
    {
      "cell_type": "code",
      "source": [
        "saudacao_com_parametro(name)"
      ],
      "metadata": {
        "colab": {
          "base_uri": "https://localhost:8080/"
        },
        "id": "B7_XdC7iIaZa",
        "outputId": "fd4905a0-779a-4c68-e9ac-2d2acc63c00a"
      },
      "execution_count": null,
      "outputs": [
        {
          "output_type": "stream",
          "name": "stdout",
          "text": [
            "Ola Alex\n"
          ]
        }
      ]
    },
    {
      "cell_type": "code",
      "source": [
        ""
      ],
      "metadata": {
        "id": "DY2mc3s7JjvN"
      },
      "execution_count": null,
      "outputs": []
    },
    {
      "cell_type": "markdown",
      "source": [
        "# Condicional"
      ],
      "metadata": {
        "id": "KKPPCXC2rEOc"
      }
    },
    {
      "cell_type": "code",
      "source": [
        "idade = 20"
      ],
      "metadata": {
        "id": "RqRuUuOyrJf9"
      },
      "execution_count": null,
      "outputs": []
    },
    {
      "cell_type": "code",
      "source": [
        "def verifica_se_pode_dirigir(idade):\n",
        "  if idade >= 18:\n",
        "    print('tem permissão para dirigir')\n",
        "  else:\n",
        "      print('Não tem permissão para dirigir')"
      ],
      "metadata": {
        "id": "nHf2_LAPspJJ"
      },
      "execution_count": null,
      "outputs": []
    },
    {
      "cell_type": "code",
      "source": [
        "verifica_se_pode_dirigir(idade)"
      ],
      "metadata": {
        "colab": {
          "base_uri": "https://localhost:8080/"
        },
        "id": "96BICPjkuHNe",
        "outputId": "de87b5be-7201-4cda-84e1-002cd67d6019"
      },
      "execution_count": null,
      "outputs": [
        {
          "output_type": "stream",
          "name": "stdout",
          "text": [
            "tem permissão para dirigir\n"
          ]
        }
      ]
    },
    {
      "cell_type": "code",
      "source": [
        "idade = 10"
      ],
      "metadata": {
        "id": "XTiYrT8uunEp"
      },
      "execution_count": null,
      "outputs": []
    },
    {
      "cell_type": "code",
      "source": [
        "verifica_se_pode_dirigir(idade)"
      ],
      "metadata": {
        "colab": {
          "base_uri": "https://localhost:8080/"
        },
        "id": "WZv5eRhDu0cu",
        "outputId": "a8a8b413-5394-4595-f2e7-64ccccde3fc5"
      },
      "execution_count": null,
      "outputs": [
        {
          "output_type": "stream",
          "name": "stdout",
          "text": [
            "Não tem permissão para dirigir\n"
          ]
        }
      ]
    },
    {
      "cell_type": "code",
      "source": [
        ""
      ],
      "metadata": {
        "id": "yP2JaxM4u4e1"
      },
      "execution_count": null,
      "outputs": []
    },
    {
      "cell_type": "markdown",
      "source": [
        "# Convertendo para inteiro"
      ],
      "metadata": {
        "id": "OAz5mCLGwfvG"
      }
    },
    {
      "cell_type": "code",
      "source": [
        "def verifica_se_pode_dirigir_sem_parametro():\n",
        " idade = input('Qual é sua idade ')\n",
        " idade = int(idade)    \n",
        "if idade >= 18:\n",
        "  print('tem permissão para dirigir')\n",
        "else:\n",
        "  print('Não tem permissão para dirigir')\n",
        "\n",
        "  verifica_se_pode_dirigir_sem_parametro()\n",
        "  "
      ],
      "metadata": {
        "colab": {
          "base_uri": "https://localhost:8080/"
        },
        "id": "wEaHTJotwl_G",
        "outputId": "9a47c403-77d3-45ae-cdb6-ab5134dc011b"
      },
      "execution_count": null,
      "outputs": [
        {
          "output_type": "stream",
          "name": "stdout",
          "text": [
            "tem permissão para dirigir\n"
          ]
        }
      ]
    },
    {
      "cell_type": "code",
      "source": [
        "idade = 18\n"
      ],
      "metadata": {
        "id": "90OYGCEExfTN"
      },
      "execution_count": null,
      "outputs": []
    },
    {
      "cell_type": "code",
      "source": [
        "sexo =\"\"\n",
        "idade =0\n",
        "qtdmulheres =0\n",
        "qtdhomens =0\n",
        "\n",
        "for i in range(0,5):\n",
        "  sexo = input(\"digite o sexo(m ou f)\")\n",
        "  idade = int(input(\"digite a idade\"))\n",
        "\n",
        "  if(sexo==\"m\" or sexo==\"M\"):\n",
        "    qtdmulheres+=1\n",
        "    elif(sexo==\"h\" or sexo==\"H\"):\n",
        "      qtdhomens+=1\n",
        "\n",
        "print(\"a quantidade de mulheres é\",qtdmulheres)\n",
        "print(\"a quantidade de homens é\",qtdhomens)"
      ],
      "metadata": {
        "id": "V4wpagL-pNQp"
      },
      "execution_count": null,
      "outputs": []
    },
    {
      "cell_type": "code",
      "source": [
        ""
      ],
      "metadata": {
        "id": "U2yd5spJew2a"
      },
      "execution_count": null,
      "outputs": []
    },
    {
      "cell_type": "markdown",
      "source": [
        "Faculdade"
      ],
      "metadata": {
        "id": "PKqWRRSNez_q"
      }
    },
    {
      "cell_type": "code",
      "source": [
        "for i in range(0,3,1) :\n",
        "  print(\"oiiii...\")"
      ],
      "metadata": {
        "colab": {
          "base_uri": "https://localhost:8080/"
        },
        "id": "-5DLxph2fO_K",
        "outputId": "c9697cb5-5408-4210-8458-754c7f6b50ec"
      },
      "execution_count": 2,
      "outputs": [
        {
          "output_type": "stream",
          "name": "stdout",
          "text": [
            "oiiii...\n",
            "oiiii...\n",
            "oiiii...\n"
          ]
        }
      ]
    },
    {
      "cell_type": "code",
      "source": [
        "nomes= [\"ana\", \"fernanda\", \"maria\"]\n",
        "nomes.append(\"lucas\")\n",
        "print(nomes)"
      ],
      "metadata": {
        "id": "lB9IlloZ0vTf",
        "colab": {
          "base_uri": "https://localhost:8080/"
        },
        "outputId": "b3e46344-91e6-43ab-b644-7bdcc9608564"
      },
      "execution_count": 5,
      "outputs": [
        {
          "output_type": "stream",
          "name": "stdout",
          "text": [
            "['ana', 'fernanda', 'maria', 'lucas']\n"
          ]
        }
      ]
    },
    {
      "cell_type": "code",
      "source": [
        "frutas = [\"limão\", \"banana\", \"morango\"]\n",
        "frutas.append(\"abacaxi\")\n",
        "frutas.\n",
        "for i in range(2):\n",
        "  frutas.pop()\n",
        "  print(frutas)"
      ],
      "metadata": {
        "colab": {
          "base_uri": "https://localhost:8080/"
        },
        "id": "5ND8achFeYmL",
        "outputId": "3a293cba-463b-43b2-a9f0-b81cee12eacd"
      },
      "execution_count": 6,
      "outputs": [
        {
          "output_type": "stream",
          "name": "stdout",
          "text": [
            "['limão', 'banana', 'morango']\n",
            "['limão', 'banana']\n"
          ]
        }
      ]
    },
    {
      "cell_type": "code",
      "source": [
        "frutas = [\"limão\", \"banana\", \"morango\"]\n",
        "frutas.append(\"abacaxi\")\n",
        "frutas.append(\"abacate\")\n",
        "\n",
        "frutas2= []\n",
        "for i in range(2):\n",
        "\n",
        "  frutas.pop()\n",
        "  frutas2.append(frutas[i])\n",
        "\n",
        "  print(frutas2)\n",
        "  "
      ],
      "metadata": {
        "colab": {
          "base_uri": "https://localhost:8080/"
        },
        "id": "YdTwWuXEg0rR",
        "outputId": "2b83ab70-5dd7-46b2-8acf-7860f0f658dd"
      },
      "execution_count": 7,
      "outputs": [
        {
          "output_type": "stream",
          "name": "stdout",
          "text": [
            "['limão']\n",
            "['limão', 'banana']\n"
          ]
        }
      ]
    },
    {
      "cell_type": "code",
      "source": [
        "nomes = (\"ana\", \"fernanda\", \"maria\")\n",
        "nomes.pop()\n",
        "print(nomes)"
      ],
      "metadata": {
        "id": "pTaQnQL1jE1J"
      },
      "execution_count": null,
      "outputs": []
    },
    {
      "cell_type": "code",
      "source": [
        "valor = 0\n",
        "for i in range(3):\n",
        "    valor = float(input(\"digite um valor\"))\n",
        "\n",
        "    print(valor)\n",
        "    "
      ],
      "metadata": {
        "colab": {
          "base_uri": "https://localhost:8080/"
        },
        "id": "kZsX7Q_Onx0v",
        "outputId": "6917ed8b-160d-46e2-fedd-4909c149b7a4"
      },
      "execution_count": 12,
      "outputs": [
        {
          "output_type": "stream",
          "name": "stdout",
          "text": [
            "digite um valor1\n",
            "1.0\n",
            "digite um valor2\n",
            "2.0\n",
            "digite um valor3\n",
            "3.0\n"
          ]
        }
      ]
    },
    {
      "cell_type": "code",
      "source": [
        "maiornota = 0\n",
        "contador = 0\n",
        "nota = 0\n",
        "somanotas = 0\n",
        "\n",
        "while contador < 3:\n",
        "    nota = float(input(\"digite a nota do aluno\"))\n",
        "    somanotas = somanotas + nota\n",
        "\n",
        "    contador+=1\n",
        "\n",
        "    if(contador==1):\n",
        "        maiornota = nota\n",
        "    else:\n",
        "        if(nota>maiornota):\n",
        "              maiornota = nota\n",
        "\n",
        "\n",
        "\n",
        "\n",
        "media = somanotas/contador\n",
        "\n",
        "print(\"a media de notas e\", media)\n",
        "print(\"a maior nota foi\", maiornota)"
      ],
      "metadata": {
        "colab": {
          "base_uri": "https://localhost:8080/"
        },
        "id": "4_iHLZJzqCvH",
        "outputId": "10f201de-95dc-4b55-8392-b291df7da301"
      },
      "execution_count": 17,
      "outputs": [
        {
          "output_type": "stream",
          "name": "stdout",
          "text": [
            "digite a nota do aluno2\n",
            "digite a nota do aluno6\n",
            "digite a nota do aluno8\n",
            "a media de notas e 5.333333333333333\n",
            "a maior nota foi 8.0\n"
          ]
        }
      ]
    }
  ]
}